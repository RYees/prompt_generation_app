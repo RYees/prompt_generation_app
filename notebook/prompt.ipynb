{
 "cells": [
  {
   "cell_type": "code",
   "execution_count": 19,
   "metadata": {},
   "outputs": [],
   "source": [
    "import warnings\n",
    "warnings.filterwarnings(\"ignore\")"
   ]
  },
  {
   "cell_type": "code",
   "execution_count": 17,
   "metadata": {},
   "outputs": [],
   "source": [
    "from prettytable import PrettyTable\n",
    "import time\n",
    "import pprint\n",
    "import wandb\n",
    "import openai\n",
    "from tenacity import retry, stop_after_attempt, wait_exponential\n",
    "from pypdf import PdfReader\n",
    "from langchain_community.vectorstores import FAISS\n",
    "from langchain.embeddings.openai import OpenAIEmbeddings\n",
    "\n",
    "openai.api_key = \"sk-proj-Tzc9mrWyEFVxyDsq5HiWT3BlbkFJxp47toOztG4XRILBeRxr\" # enter your OpenAI API key here\n",
    "openai_client = openai.OpenAI(api_key=openai.api_key)\n",
    "use_wandb = True # set to True if you want to use wandb to log your config and results\n",
    "\n",
    "use_portkey = False #set to True if you want to use Portkey to log all the prompt chains and their responses Check https://portkey.ai/"
   ]
  },
  {
   "cell_type": "code",
   "execution_count": 20,
   "metadata": {},
   "outputs": [],
   "source": [
    "import os, sys\n",
    "rpath = os.path.abspath('..')\n",
    "if rpath not in sys.path:\n",
    "    sys.path.insert(0, rpath)\n",
    "\n",
    "from chunking import ChunkingApproaches"
   ]
  },
  {
   "cell_type": "markdown",
   "metadata": {},
   "source": [
    "# Creating Prompt Database"
   ]
  },
  {
   "cell_type": "code",
   "execution_count": 18,
   "metadata": {},
   "outputs": [
    {
     "data": {
      "text/plain": [
       "[Page(id=0, page_content='ADVISORY SERVICES AGREEMENT \\n \\nThis Advisory Services Agreement is entered into as of June 15th, 2023 (the “Effective Date ”), by and \\nbetween Cloud Investments Ltd., ID 51-426526-3, an Israeli company (the \" Company \"), and Mr. Jack \\nRobinson, Passport Number 780055578, residing at 1 Rabin st, Tel Aviv, Israel, Email: \\njackrobinson@gmail.com (\"Advisor \"). \\n \\nWhereas, Advisor has expertise and/or knowledge and/or relationships, which are relevant to the \\nCompany ’s business and the Company has asked Advisor to provide it with certain Advisory \\nservices, as described in this Agreement; and \\nWhereas,  Advisor has agreed to provide the Company with such services, subject to the terms set forth \\nin this Agreement. \\n \\nNOW THEREFORE THE PARTIES AGREE AS FOLLOWS: \\n \\n1. Services:   \\n1.1 Advisor shall provide to the Company, as an independent contractor, software development \\nservices, and / or any other services as agreed by the parties from time to time (the “Services ”). \\nAdvisor shall not appoint any sub-agents or delegates in connection with performance of the \\nServices, nor assign any of his obligations or rights hereunder without obtaining the prior written \\nconsent of the Company.  \\nWithout derogating from the foregoing, the Advisor shall not be required to provide the Services \\nfor a period of eighteen (18) days in each 12-month period.  \\n1.2 In performing the Services, Advisor shall devote his time, know-how, expertise, talent, \\nexperience and best efforts and attention to the provision of the Services, as shall be reasonably \\nrequired by the Company . Advisor shall render the Services in a diligent manner and at a high \\nprofessional standard for the benefit of the Company and shall perform and discharge well and \\nfaithfully, with devotion, honesty and fidelity, his obligations hereunder.  \\n1.3 Advisor further agrees and undertakes to (i) comply with all the Company\\'s policies, procedures \\nand objectives, as in effect from time to time; (ii) adhere to any applicable law or provision, \\npertaining to his services; (iii) not take any action with the intention that the same will cause \\nmaterial damage to the good name of the Company; (iv) keep the contents of this Agreement \\nconfidential and not to disclose the existence or contents of this Agreement to any third party \\nwithout the prior written consent of the Company. \\n \\n2. Time Tracking:  Advisor shall provide the Company with a written report, in a format acceptable by \\nthe Company, setting forth the number of hours in which he provided the Services, on a daily basis, as \\nwell as an aggregated monthly report at the last day of each calendar month. \\n3. No Conflicts: Advisor represents that there is no contractual or other legal restriction preventing or \\nlimiting him/her from entering into this Agreement or performing any of his/her obligations \\nhereunder. Advisor shall immediately and without delay inform the Company of any affairs and/or \\nmatters that might constitute a conflict of interest with his/her services to Company and/or the \\ninterests of the Company. Advisor agrees to indemnify, defend and hold harmless the Company and \\nits directors, officers and employees against all claims, liabilities, and costs, including reasonable \\nattorneys\\' fees in connection with any breach by Advisor, of any obligations pursuant to a prior or \\nexisting engagement with any other third party, including without limitation other employers or \\nclients.', metadata={'page_number': 0}),\n",
       " Page(id=1, page_content='-  2- \\n \\n4. Term : The term of this Agreement shall commence on the Effective Date and shall continue until \\nterminated in accordance with the provisions herein (the \" Term \").   \\n \\n5. Termination : Either party, at any given time, may terminate this Agreement, for any reason \\nwhatsoever, with or without cause, upon fourteen (14) days ’ prior written notice. Notwithstanding the \\nabove, the Company may terminate this Agreement immediately and without prior notice if Advisor \\nrefuses or is unable to perform the Services, or is in breach of any provision of this Agreement.  \\n \\n6. Compensation: \\n6.1 As full and sole consideration for the Services, and subject to the performance of the Services, \\nthe Company shall pay the Advisor, against an invoice provided to the Company by Advisor , \\nhourly fees at a rate of USD 9 (nine) per Billable Hour as defined below, limited to a maximum \\nof USD 1,500 per month (the \" Fees \"). In addition, the Company shall pay the advisor USD 100  \\nper month to finance a workspace for the Advisor, as long as the Advisor actually hires a \\nprofessional workspace (the “Workspace Expense ”). Advisor will not be entitled to any \\nadditional fees or expense reimbursement whatsoever, except as expressly provided for in this \\nAgreement.  \\nBillable Hour:  Net time devoted to the provisioning of the Services, without calculating meals, \\ntravels or any other overhead time borne by the Advisor.  \\n6.2 The Fees and the Workspace Expense for each month shall be payable by no later than ten (10) \\ndays from the beginning of the following month, against receipt by the Company of a duly issued \\ntax invoice. \\n6.3 In addition, the Company shall reimburse Advisor for any reasonable and actual expenses \\nincurred by the Advisor in connection with the performance of the Services, all in accordance \\nwith the Company ’s policies as determined by the Board of Directors from time to time, and \\nsubject to Company\\'s prior written consent for each specific expense, before Advisor incurs such \\nexpenses. As a condition to reimbursement, Advisor shall provide the Company with copies of \\nall invoices, receipts and other evidence of expenditures as required by Company policy. \\n6.4 Advisor shall be solely responsible for any income taxes or other assessments made or imposed \\nby any governmental authority on Advisor with respect to the Services rendered and the \\ncompensation received hereunder, and any and all expenses and costs of himself, employees, \\nagents and representatives, including, without limitation, any salary, overtime, severance or \\nsocial benefits payable thereto, and marketing costs incurred in connection with the performance \\nof obligations hereunder. \\n \\n7. Confidentiality, Non-Competition and IP Ownership Undertaking : In connection with the \\nperformance of Advisor ’s obligations under this Agreement, the Advisor shall execute a \\nConfidentiality, Non-Competition and IP Ownership Undertaking in the form attached hereto as \\nExhibit A .  \\n \\n8. Relationship of the Parties; Indemnification : The sole relationship between the Company and the \\nAdvisor shall be that of independent contractors. Advisor shall not be deemed to be, nor treated by the \\nCompany as, an employee of the Company. Advisor shall not receive nor be entitled to overtime pay , \\ninsurance, paid vacation, severance payments or similar fringe or employment benefits from the \\nCompany. Without derogating from the above, if it is adjudicated or otherwise determined by any \\ngovernmental authority that the Advisor and/or anyone on Advisor\\'s behalf, is, regardless of the terms \\nof this Agreement, an employee of the Company, then payments to Advisor hereunder shall be \\nreduced effective retroactively as of the beginning of the Term so that 60% of such payments sha ll', metadata={'page_number': 1}),\n",
       " Page(id=2, page_content='-  3- \\n \\nconstitute salary payments, and 40% of such payments shall constitute payment by the Company for \\nall other Advisor statutory rights and benefits as employee of the Company throughout the Term. \\nAdvisor further consents that the Compan y may offset any amounts due to him under this Section \\nfrom any amounts payable to Advisor under this Agreement. Advisor shall indemnify the Company \\nfor any loss or expenses incurred by the Company if it were determined that an alleged \\nemployer/employee relationship existed between the Advisor and the Company.  \\n \\n9. Entire Agreement; No Waiver or Assignment : This Agreement together with the Exhibits, which \\nare attached hereto and incorporated herein, set forth the entire Agreement between the pa rties and \\nshall supersede all previous communications and agreements between the parties, either oral or \\nwritten. This Agreement may be modified only by a written amendment executed by both parties. \\nThis Agreement may not be assigned, sold, delegated or transferred in any manner by Advisor for any \\nreason whatsoever. The Company may assign the Agreement to a successor of all or substantially all \\nof its assets or business, provided the assignee has assumed the Company ’s obligations under this \\nAgreement.   \\n \\n10. Governing Law and Jurisdiction :  This Agreement shall be governed by the laws of the State of \\nIsrael, without giving effect to the rules respecting conflicts of laws. The parties consent to the \\nexclusive jurisdiction and venue of Tel Aviv courts for any lawsuit filed arising from or relating to \\nthis Agreement.    \\n \\n11. Notices : Notices under this Agreement shall be delivered to the party ’s email address as follows: \\nCompany: info@cloudcorp.com , Advisor: jackrobinson@gmail.com , or in any the other means with a \\nproof of acceptance by the other party. \\n \\nIN WITNESS WHEREOF the parties have executed this Agreement as of the date first above written. \\n \\n \\n \\nCloud Investments Ltd.    Advisor  \\n \\nBy: ________________________  By:________________________ \\nName: Silvan Joseph    Name: Jack Robinson   \\nTitle: CEO', metadata={'page_number': 2}),\n",
       " Page(id=3, page_content='-  4- \\n \\nConfidentiality, None Compete and IP Ownership Undertaking \\nAppendix A to Advisory Service Agreement as of June 1 5th, 2023 \\n \\nTHIS CONFIDENTIALITY UNDERTAKING (“Undertaking ”) is entered into as of June 15th, 2023 ( “Effective Date ”), by Mr. Jack \\nRobinson, Passport Number 780055578, residing at 1 Rabin st, Tel Avi v, Israel, Email: jackrobinson@gmail.com, ( “Advisor ”), towards Cloud \\nInvestments Ltd ( “Company ”), as follows: \\n1. Definitions:  (a) Company ’s Business:  development of an AI-based contract assistant. (b) Services:  Software development services and/or \\nany other services provided by the Advisor to the Company. (c) Work Product:  Any product of the Services, tangible and/or intangible, \\nincluding any inventions, discoveries and/or other intellectual property. (d) Confidential Information:  any information disclosed by the \\nCompany to the Advisor and/or created as a result of the Services (including  Work Product), of any type, form (including orally) or media, \\nincluding (without limitation), code, specifications, architecture, desig n, data, algorithms, business plans, budget, customers / suppliers lists \\netc.), but excluding information which prior to the disclosure was publicly  available or known to the Advisor (both without breach of any \\nconfidentiality obligation towards the Company). \\n \\n2. Use: The Advisor may use the Confidential Information only for the purpo se of providing the Services and shall not obtain any rights in it. \\nThe Advisor shall stop using Confidential Information and/or return it to the Company and/or destroy it immediately upon Company ’s \\nrequest. The Advisor may disclose Confidential Information in case this i s required by law, but only to the extent required and after \\nproviding the Company a prompt written notice and subject to promptl y cooperate with the Company in seeking a protective order.  \\n \\n3. Safeguard: The Advisor shall safeguard the Confidential Information, keep it in strict confidence and shall not disclose it to any third party \\nwithout the prior written consent of the Company. \\n \\n4. IP: Any Work Product, upon creation, shall be fully and exclusivel y owned by the Company. The Advisor, immediately upon Company ’s \\nrequest, shall sign any document and/or perform any action neede d to formalize such ownership. The Advisor shall not obtain any righ ts in \\nthe Work Product, including moral rights and/or rights for royalties or ot her consideration under any applicable law (including Section 134 \\nof the Israeli Patent Law – 1967 if applicable), and shall not be entitled to any compe nsation with respect to the Services, which was not \\nspecifically agreed, in writing, between the Advisor and the Comp any. \\n \\n5. Non-Compete : During the term of engagement with the Company and for a period  of 12 months thereafter, Advisor shall not be involved, \\nas an employee, owner, contractor or otherwise, in any business, which competes with the Company ’s Business, and shall not solicit and/or \\nhire any employee and/or service provider of the Company, without the prior written consent of the Company. \\n \\n6. Personnel: The Advisor may provide the Services only directly or through employees, contractors or agents ( “Personnel ”), which were \\nspecifically approved by the Company, and have committed in writ ing to confidentiality and ownership rights towards the Advisor and/or \\nthe Company, in a form restrictive enough to allow Advisor to comply and enforce the commitments under this undertaking ( “Authorized \\nPersonnel ”). Without limiting the foregoing, the Advisor is liable hereunder for any breach of this undertaking by any Advisor Personne l. \\n \\n7. Third Parties: The Advisor represents that the performance of the Services and the terms of  this Undertaking, do not and will not breach \\nany right, contractual or other, of any employer, customer or other third party. Advisor acknowledges that the Company is relying upon the \\ntruthfulness and accuracy of such representations in engaging with the Advisor. Advisor specifically undertakes not to use any proprietary \\nand/or confidential information belonging to the Advisor and/or any third party while performing the Services and in case any Advisor \\nproprietary or confidential information is used, such information will  be automatically assigned to the Company and become its fu ll and \\nexclusive property.  \\n \\n8. Jurisdiction: This Undertaking shall be governed by and construed in accordance with the laws of the State of Israel, without giving effect \\nto its laws pertaining to conflict of laws.  The Advisor agrees that any an d all disputes in connection with this Undertaking shall be \\nsubmitted to the exclusive jurisdiction of the competent courts in the c ity of Tel Aviv-Yafo, Israel. \\n \\n9. Pre-Undertaking: In case the Advisor has been providing Services to the Company before the Effective Date ( “Pre-Undertaking Period ”), \\nthis Undertaking shall also apply to the Pre-Undertaking Period, including,  if relevant, before Company ’s incorporation. The Company may \\nassign this undertaking to third parties. \\nIN WITNESS WHEREOF , the undersigned has executed this Undertaking as of the Effective Date. \\nAdvisor   \\nBy: _____________________________________  \\nName: Jack Robinson', metadata={'page_number': 3})]"
      ]
     },
     "execution_count": 18,
     "metadata": {},
     "output_type": "execute_result"
    }
   ],
   "source": [
    "from collections import namedtuple\n",
    "Page = namedtuple(\"Page\", [\"id\", \"page_content\", \"metadata\"])\n",
    "\n",
    "def pdf_reader(file_path):\n",
    "    reader = PdfReader(file_path)\n",
    "    pdf_pages = []\n",
    "    for page_number, page in enumerate(reader.pages):\n",
    "        page_content = page.extract_text().strip()\n",
    "        if page_content:\n",
    "            metadata = {\"page_number\": page_number}  # Add any additional metadata as needed\n",
    "            pdf_pages.append(Page(id=page_number, page_content=page_content, metadata=metadata))\n",
    "    return pdf_pages\n",
    "\n",
    "file_path = './Robinson.pdf'\n",
    "pdf_pages = pdf_reader(file_path)\n",
    "pdf_pages "
   ]
  },
  {
   "cell_type": "code",
   "execution_count": null,
   "metadata": {},
   "outputs": [],
   "source": [
    "\n",
    "embed = OpenAIEmbeddings(model=\"text-embedding-3-small\", openai_api_key=openai.api_key)\n",
    "vectorstore = FAISS.from_documents(pdf_pages, embed)"
   ]
  },
  {
   "cell_type": "code",
   "execution_count": null,
   "metadata": {},
   "outputs": [],
   "source": [
    "question = ''\n",
    "vectorstore.similarity_search(question)"
   ]
  },
  {
   "cell_type": "markdown",
   "metadata": {},
   "source": [
    "# Prompt Generation"
   ]
  },
  {
   "cell_type": "code",
   "execution_count": 11,
   "metadata": {},
   "outputs": [],
   "source": [
    "CANDIDATE_MODEL = 'gpt-4'\n",
    "CANDIDATE_MODEL_TEMPERATURE = 0.9\n",
    "NUMBER_OF_PROMPTS = 1\n",
    "N_RETRIES = 3\n",
    "WANDB_PROJECT_NAME = \"mine-gpt-prompt-eng\" \n",
    "WANDB_RUN_NAME = None \n",
    "EVAL_MODEL = 'gpt-3.5-turbo'\n",
    "EVAL_MODEL_TEMPERATURE = 0\n",
    "EVAL_MODEL_MAX_TOKENS = 1"
   ]
  },
  {
   "cell_type": "code",
   "execution_count": 9,
   "metadata": {},
   "outputs": [],
   "source": [
    "candidate_gen_system_prompt = \"\"\"Your job is to generate system prompts for GPT-4, given a description of the use-case and some test cases.\n",
    "\n",
    "\n",
    "In your generated prompt, you should describe how the AI should behave in plain English. Include what it will see, and what it's allowed to output. Be creative in with prompts to get the best possible results. The AI knows it's an AI -- you don't need to tell it this.\n",
    "\n",
    "You will be graded based on the performance of your prompt... but don't cheat! You cannot include specifics about the test cases in your prompt. Any prompts with examples will be disqualified.\n",
    "\n",
    "Most importantly, output NOTHING but the prompt. Do not include anything else in your message.\"\"\"\n",
    "\n",
    "# The prompts you will be generating will be for classifiers, with 'true' and 'false' being the only possible outputs.\n"
   ]
  },
  {
   "cell_type": "code",
   "execution_count": 5,
   "metadata": {},
   "outputs": [],
   "source": [
    "# Get Score - retry up to N_RETRIES times, waiting exponentially between retries.\n",
    "@retry(stop=stop_after_attempt(N_RETRIES), wait=wait_exponential(multiplier=1, min=4, max=70))\n",
    "def generate_candidate_prompts(description, test_cases, number_of_prompts):\n",
    "  outputs = openai_client.chat.completions.create(\n",
    "      model=CANDIDATE_MODEL,\n",
    "      messages=[\n",
    "          {\"role\": \"system\", \"content\": candidate_gen_system_prompt},\n",
    "          {\"role\": \"user\", \"content\": f\"Here are some test cases:`{test_cases}`\\n\\nHere is the description of the use-case: `{description.strip()}`\\n\\nRespond with your prompt, and nothing else. Be creative.\"}\n",
    "          ],\n",
    "      temperature=CANDIDATE_MODEL_TEMPERATURE,\n",
    "      n=number_of_prompts,\n",
    "    #   headers=HEADERS\n",
    "      )\n",
    "\n",
    "  prompts = []\n",
    "\n",
    "  for i in outputs.choices:\n",
    "    prompts.append(i.message.content)\n",
    "  return prompts"
   ]
  },
  {
   "cell_type": "code",
   "execution_count": 8,
   "metadata": {},
   "outputs": [],
   "source": [
    "test_cases = [\n",
    "    {\n",
    "        'prompt': 'Is the escrow amount greater than the retention amount.',\n",
    "        'answer': 'No it is not'\n",
    "    },\n",
    "    {\n",
    "        'prompt': 'Are there any conditions to the closing?',\n",
    "        'answer': 'No, as the signing and closing are simultaneous.'\n",
    "    },\n",
    "    {\n",
    "        'prompt': 'What is the purpose of escrow?',\n",
    "        'answer': 'To serve as a recourse of the Buyer in case of post-closing adjustments of the purchase price'\n",
    "    },\n",
    "    {\n",
    "        'prompt': 'Does any of the Sellers provide a representation with respect to any Tax matters related to the Company?',\n",
    "        'answer': 'No. Only the Company provides such a representation.'\n",
    "    },\n",
    "    {\n",
    "        'prompt': 'Are Change of Control Payments considered a Seller Transaction Expense?',\n",
    "        'answer': 'yes'\n",
    "    },\n",
    "    # {\n",
    "    #     'prompt': 'Make a reservation at The Accent for 9pm',\n",
    "    #     'answer': 'false'\n",
    "    # },\n",
    "    # {\n",
    "    #     'prompt': 'organize my google drive',\n",
    "    #     'answer': 'false'\n",
    "    # },\n",
    "    # {\n",
    "    #     'prompt': 'Find the highest-rated Italian restaurant near me.',\n",
    "    #     'answer': 'true'\n",
    "    # },\n",
    "    # {\n",
    "    #     'prompt': 'Explain the theory of relativity.',\n",
    "    #     'answer': 'true'\n",
    "    # },\n",
    "    # {\n",
    "    #     'prompt': 'What are the main differences between Python and Java programming languages?',\n",
    "    #     'answer': 'true'\n",
    "    # },\n",
    "    # {\n",
    "    #     'prompt': 'Translate the following English sentence to Spanish: \"The weather today is great.\"',\n",
    "    #     'answer': 'false'\n",
    "    # },\n",
    "    # {\n",
    "    #     'prompt': 'Create a new event on my calendar for tomorrow at 2 pm.',\n",
    "    #     'answer': 'false'\n",
    "    # },\n",
    "    # {\n",
    "    #     'prompt': 'Write a short story about a lonely cowboy.',\n",
    "    #     'answer': 'false'\n",
    "    # },\n",
    "    # {\n",
    "    #     'prompt': 'Design a logo for a startup.',\n",
    "    #     'answer': 'false'\n",
    "    # },\n",
    "    # {\n",
    "    #     'prompt': 'Compose a catchy jingle for a new soda brand.',\n",
    "    #     'answer': 'false'\n",
    "    # },\n",
    "    # {\n",
    "    #     'prompt': 'Calculate the square root of 1999.',\n",
    "    #     'answer': 'false'\n",
    "    # },\n",
    "    # {\n",
    "    #     'prompt': 'What are the health benefits of yoga?',\n",
    "    #     'answer': 'true'\n",
    "    # },\n",
    "    # {\n",
    "    #     'prompt': 'find me a source of meat that can be shipped to canada',\n",
    "    #     'answer': 'true'\n",
    "    # },\n",
    "    # {\n",
    "    #     'prompt': 'Find the best-selling book of all time.',\n",
    "    #     'answer': 'true'\n",
    "    # },\n",
    "    # {\n",
    "    #     'prompt': 'What are the top 5 tourist attractions in Brazil?',\n",
    "    #     'answer': 'true'\n",
    "    # },\n",
    "    # {\n",
    "    #     'prompt': 'List the main ingredients in a traditional lasagna recipe.',\n",
    "    #     'answer': 'true'\n",
    "    # },\n",
    "    # {\n",
    "    #     'prompt': 'How does photosynthesis work in plants?',\n",
    "    #     'answer': 'true'\n",
    "    # },\n",
    "    # {\n",
    "    #     'prompt': 'Write a Python program to reverse a string.',\n",
    "    #     'answer': 'false'\n",
    "    # },\n",
    "    # {\n",
    "    #     'prompt': 'Create a workout routine for a beginner.',\n",
    "    #     'answer': 'false'\n",
    "    # },\n",
    "    # {\n",
    "    #     'prompt': 'Edit my resume to highlight my project management skills.',\n",
    "    #     'answer': 'false'\n",
    "    # },\n",
    "    # {\n",
    "    #     'prompt': 'Draft an email to a client to discuss a new proposal.',\n",
    "    #     'answer': 'false'\n",
    "    # },\n",
    "    # {\n",
    "    #     'prompt': 'Plan a surprise birthday party for my best friend.',\n",
    "    #     'answer': 'false'\n",
    "    # }\n",
    "    ]"
   ]
  },
  {
   "cell_type": "code",
   "execution_count": 12,
   "metadata": {},
   "outputs": [],
   "source": [
    "description = \"You are giving answer for a legal contract\"\n",
    "candidate_prompts = generate_candidate_prompts(description, test_cases, NUMBER_OF_PROMPTS)"
   ]
  },
  {
   "cell_type": "code",
   "execution_count": 15,
   "metadata": {},
   "outputs": [
    {
     "name": "stdout",
     "output_type": "stream",
     "text": [
      "['You are an AI trained on large volumes of data across numerous fields. Your '\n",
      " 'task is to answer queries about legal contracts accurately. The questions '\n",
      " 'will be about different aspects of a contract such as details about escrow, '\n",
      " 'closing conditions, purpose and definitions of specific terms, and tax '\n",
      " 'matters. You need to analyze and understand the context of the question and '\n",
      " 'provide precise and concise answers. Your output should not contain any '\n",
      " 'irrelevant information and should directly address the question asked. The '\n",
      " 'tone should be professional and formal, consistent with the nature of legal '\n",
      " 'discourse.']\n"
     ]
    }
   ],
   "source": [
    "pprint.pp(candidate_prompts)"
   ]
  }
 ],
 "metadata": {
  "kernelspec": {
   "display_name": "Python 3",
   "language": "python",
   "name": "python3"
  },
  "language_info": {
   "codemirror_mode": {
    "name": "ipython",
    "version": 3
   },
   "file_extension": ".py",
   "mimetype": "text/x-python",
   "name": "python",
   "nbconvert_exporter": "python",
   "pygments_lexer": "ipython3",
   "version": "3.10.12"
  }
 },
 "nbformat": 4,
 "nbformat_minor": 2
}
